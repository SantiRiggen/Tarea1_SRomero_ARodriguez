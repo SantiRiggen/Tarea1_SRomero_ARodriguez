{
 "cells": [
  {
   "cell_type": "markdown",
   "metadata": {},
   "source": [
    "<img style=\"float: left; margin: 30px 15px 15px 15px;\" src=\"https://pngimage.net/wp-content/uploads/2018/06/logo-iteso-png-5.png\" width=\"300\" height=\"500\" /> \n",
    "    \n",
    "    \n",
    "### <font color='navy'> Simulación de procesos financieros. \n",
    "\n",
    "**Nombres:** Santiago Romero Riggen y Ana Esmeralda Rodríguez Rodríguez.\n",
    "\n",
    "**Fecha:** 29 de Mayo del 2021.\n",
    "\n",
    "**Expediente** : if715099 y if709288.\n",
    "**Profesor:** Oscar David Jaramillo Zuluaga.\n",
    "    \n",
    "**Link Github**: https://github.com/SantiRiggen/Tarea1_SRomero_ARodriguez\n",
    "\n",
    "# Tarea 1: Clase 2"
   ]
  },
  {
   "cell_type": "code",
   "execution_count": null,
   "metadata": {},
   "outputs": [],
   "source": []
  },
  {
   "cell_type": "code",
   "execution_count": null,
   "metadata": {},
   "outputs": [],
   "source": []
  },
  {
   "cell_type": "markdown",
   "metadata": {},
   "source": [
    "### Código de solución estudiante 1: Santiago Romero Riggen\n",
    "##### Expectativas del curso\n",
    "Dentro de mis expectativas sobre el cursos están:\n",
    "\n",
    "- Aprender nuevas herramientas que pueda usar en mis siguientes clases y en el futuro me san útiles ya en el ambiente laboral\n",
    "- También aprender a entender los comportamientos dentro de las finanzas para poder tomar las mejores decisiones\n"
   ]
  },
  {
   "cell_type": "markdown",
   "metadata": {},
   "source": [
    "#### Transcipción de la Figura 1\n",
    "\n",
    "| i | x | f(x) |\n",
    "| --- | ---: | :---: |\n",
    "| 0 | -1 | 0.3678 |\n",
    "| <span style='color:Red'> 1 | <span style='color:Red'> -0.5 | <span style='color:Red'> 0.7788 |</span>\n",
    "| <span style='color:Blue'>2 | <span style='color:Blue'>0 | <span style='color:Blue'>1 | </span>\n",
    "| <span style='color:Red'>3 | <span style='color:Red'>0.5 | <span style='color:Red'>0.7788 |</span>\n",
    "| 4 | 1 | 0.3678 |\n",
    "  \n",
    "<br/>\n",
    "<center> Cuadro 1: Tabla de valores de f(x) </center>\n",
    "<br/>\n",
    "<br/>\n",
    "\n",
    "$$ \\int_{-1}^{1} e^{-x^2} dx \\approx \\frac{0,5}{3} [f(-1) + f(1) + 4({\\color{red}{f(-0.5) + f(0.5)}}  + 2 {\\color{blue}{f(0)}}] $$\n",
    "\n",
    "$$ \\approx \\frac{0,5}{3} [0.3678 + 0.3678 + 4({\\color{red}{0.7788 + 0.7788}})  + 2 \\cdot {\\color{blue}{1}}] \\approx 1.4943 $$\n",
    "\n",
    "A modo de verificación se calculará por software, el valor del área para n=100, un valor mucho más elevado al que se utilizó anteriormente. Si lo calculado previamente es correcto, se esperaría que sea próximo al valor presentado a continuación para ser una buena aproximación\n",
    "\n",
    "<br/>\n",
    "\n",
    "\\begin{align}\\int_{1}^{3} e^{-x^2} dx &\\approx 1,4936 \\end{align}\n"
   ]
  },
  {
   "cell_type": "code",
   "execution_count": null,
   "metadata": {},
   "outputs": [],
   "source": []
  },
  {
   "cell_type": "code",
   "execution_count": 37,
   "metadata": {},
   "outputs": [
    {
     "name": "stdout",
     "output_type": "stream",
     "text": [
      "Los números de Fibonacci antes del 100 son los siguientes:\n",
      "\n",
      "1\n",
      "2\n",
      "3\n",
      "5\n",
      "8\n",
      "13\n",
      "21\n",
      "34\n",
      "55\n",
      "89\n",
      "144\n",
      "233\n",
      "377\n",
      "610\n",
      "987\n",
      "1597\n",
      "2584\n",
      "4181\n",
      "6765\n",
      "10946\n",
      "17711\n",
      "28657\n",
      "46368\n",
      "75025\n",
      "121393\n",
      "196418\n",
      "317811\n",
      "514229\n",
      "832040\n",
      "1346269\n",
      "2178309\n",
      "3524578\n",
      "5702887\n",
      "9227465\n",
      "14930352\n",
      "24157817\n",
      "39088169\n",
      "63245986\n",
      "102334155\n",
      "165580141\n",
      "267914296\n",
      "433494437\n",
      "701408733\n",
      "1134903170\n",
      "1836311903\n",
      "2971215073\n",
      "4807526976\n",
      "7778742049\n",
      "12586269025\n",
      "20365011074\n",
      "32951280099\n",
      "53316291173\n",
      "86267571272\n",
      "139583862445\n",
      "225851433717\n",
      "365435296162\n",
      "591286729879\n",
      "956722026041\n",
      "1548008755920\n",
      "2504730781961\n",
      "4052739537881\n",
      "6557470319842\n",
      "10610209857723\n",
      "17167680177565\n",
      "27777890035288\n",
      "44945570212853\n",
      "72723460248141\n",
      "117669030460994\n",
      "190392490709135\n",
      "308061521170129\n",
      "498454011879264\n",
      "806515533049393\n",
      "1304969544928657\n",
      "2111485077978050\n",
      "3416454622906707\n",
      "5527939700884757\n",
      "8944394323791464\n",
      "14472334024676221\n",
      "23416728348467685\n",
      "37889062373143906\n",
      "61305790721611591\n",
      "99194853094755497\n",
      "160500643816367088\n",
      "259695496911122585\n",
      "420196140727489673\n",
      "679891637638612258\n",
      "1100087778366101931\n",
      "1779979416004714189\n",
      "2880067194370816120\n",
      "4660046610375530309\n",
      "7540113804746346429\n",
      "12200160415121876738\n",
      "19740274219868223167\n",
      "31940434634990099905\n",
      "51680708854858323072\n",
      "83621143489848422977\n",
      "135301852344706746049\n",
      "218922995834555169026\n",
      "354224848179261915075\n",
      "573147844013817084101\n"
     ]
    }
   ],
   "source": [
    "# Serie de Fibonacci\n",
    "n0 = 0\n",
    "n1 = 1\n",
    "x = n0 + n1\n",
    "print(\"Los números de Fibonacci antes del 100 son los siguientes:\")\n",
    "print(\"\")\n",
    "for i in range(100):\n",
    "    x = n0 + n1\n",
    "    n0 = n1\n",
    "    n1 = x\n",
    "    print(x)"
   ]
  },
  {
   "cell_type": "markdown",
   "metadata": {},
   "source": [
    "Código de solución estudiante 2"
   ]
  },
  {
   "cell_type": "markdown",
   "metadata": {},
   "source": [
    "### Código de solución estudiante 2: Ana Esmeralda Rodríguez Rodríguez\n",
    "##### Expectativas del curso: \n",
    "Aprender a utilizar las herramientas de programacion y matemáticas juntas para el analisis de las finanzas, desarrollar lógica ante problemas resolviendolos por medio de la programación.\n"
   ]
  },
  {
   "cell_type": "markdown",
   "metadata": {},
   "source": [
    "#### Transcipción de la Figura 2\n",
    "\n",
    "| $i$           | $1$  | $2$ | $3$ | $4$ | $5$ | $6$ | $7$ |\n",
    "| ----          | ---- |---- | ----| ----| ----| ----| ----|\n",
    "| $E_i(V)$      | $12$ |$10$ |$24$ |$12$ |$-$  |$-$  |$-$  |\n",
    "| $r_i(\\Omega)$ | $0.1$|$0.5$|$0.2$|$0.5$|$-$  |$-$  |$-$  |\n",
    "| $R_i(\\Omega)$ | $25$ |$40$ |$16$ |$20$ |$9$  |$4$  |$20$ |\n",
    "\n",
    "\n"
   ]
  },
  {
   "cell_type": "markdown",
   "metadata": {},
   "source": [
    "<font color=blue>Kemna y Vorst (1990) </font> muestran que las opciones asiáticas con media geométrica continua se pueden valuar con el mismo enfoque de las opciones *plain vanilla*; solo se deben cambiar los paámetros de volatilidad $\\sigma$ por $\\sigma_a$, y el costo de acarreo *$b$* por *$b_A$*\n",
    "    De acuerdo con Kemma y Vorst, las fórmulas para valuar una opción de compra y una opción de venta son:\n",
    "    \n",
    "$c≈ S_I e^{(b_A-r)(T-t)}\\Phi(d_1) - K_e^{-r(T-t)}\\Phi(d_2)$,\n",
    "\n",
    "$p≈ K_e^{-r(T-t)}\\Phi(-d_2) - S_I e^{(b_A-r)(T-t)}\\Phi(-d_1) $\n",
    "\n",
    "con $d_1$ y $d_2$ dados por:\n",
    "\n",
    "$ d_1 = \\frac{ln(S_t/K) + (b_A + 1/2\\sigma^2_a)(T-t)}{\\sigma \\sqrt{T-t}} $\n",
    "\n",
    "$ d_\" = d1-\\sigma \\sqrt{T-t}$\n",
    "\n",
    "La función $\\Phi(d)$ es la función de distribución acumulada de $E\\sim \\mathcal{N}(0,1)$. La volatilidad ajustada es igual a:\n",
    "\n",
    "$\\sigma_a = \\frac{\\sigma}{\\sqrt{3}}$\n",
    "\n",
    "mientras que el costo de acarreo ajustado es:\n",
    "\n",
    "$b_A = \\frac{1}{2} \\left(v- \\frac{\\sigma^2}{6} \\right)$\n",
    "\n"
   ]
  },
  {
   "cell_type": "code",
   "execution_count": 4,
   "metadata": {},
   "outputs": [
    {
     "name": "stdout",
     "output_type": "stream",
     "text": [
      "[2, 3, 5, 7, 11, 13, 17, 19, 23, 29, 31, 37, 41, 43, 47, 53, 59, 61, 67, 71, 73, 79, 83, 89, 97]\n"
     ]
    }
   ],
   "source": [
    "# Numeros primos del 0 al 100\n",
    "X= [i for i in range(2,101)\n",
    "   if(i%2!=0 or i==2) and (i%3!=0 or i==3) and (i%5!=0 or i==5) and (i%7!=0 or i==7)]\n",
    "print(X)"
   ]
  },
  {
   "cell_type": "code",
   "execution_count": null,
   "metadata": {},
   "outputs": [],
   "source": []
  }
 ],
 "metadata": {
  "kernelspec": {
   "display_name": "Python 3",
   "language": "python",
   "name": "python3"
  },
  "language_info": {
   "codemirror_mode": {
    "name": "ipython",
    "version": 3
   },
   "file_extension": ".py",
   "mimetype": "text/x-python",
   "name": "python",
   "nbconvert_exporter": "python",
   "pygments_lexer": "ipython3",
   "version": "3.7.4"
  }
 },
 "nbformat": 4,
 "nbformat_minor": 2
}
